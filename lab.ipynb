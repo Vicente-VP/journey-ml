{
 "cells": [
  {
   "cell_type": "code",
   "execution_count": 33,
   "id": "72fc9cf9",
   "metadata": {},
   "outputs": [
    {
     "data": {
      "text/html": [
       "<div>\n",
       "<style scoped>\n",
       "    .dataframe tbody tr th:only-of-type {\n",
       "        vertical-align: middle;\n",
       "    }\n",
       "\n",
       "    .dataframe tbody tr th {\n",
       "        vertical-align: top;\n",
       "    }\n",
       "\n",
       "    .dataframe thead th {\n",
       "        text-align: right;\n",
       "    }\n",
       "</style>\n",
       "<table border=\"1\" class=\"dataframe\">\n",
       "  <thead>\n",
       "    <tr style=\"text-align: right;\">\n",
       "      <th></th>\n",
       "      <th>ip</th>\n",
       "      <th>date</th>\n",
       "      <th>email</th>\n",
       "      <th>route</th>\n",
       "      <th>scroll_pct</th>\n",
       "      <th>time_spent</th>\n",
       "      <th>referrer</th>\n",
       "      <th>device</th>\n",
       "    </tr>\n",
       "  </thead>\n",
       "  <tbody>\n",
       "    <tr>\n",
       "      <th>0</th>\n",
       "      <td>8.8.194.182</td>\n",
       "      <td>20/01/2027</td>\n",
       "      <td>NaN</td>\n",
       "      <td>/instituicoes</td>\n",
       "      <td>75.42</td>\n",
       "      <td>191</td>\n",
       "      <td>chrome</td>\n",
       "      <td>desktop</td>\n",
       "    </tr>\n",
       "    <tr>\n",
       "      <th>1</th>\n",
       "      <td>8.8.157.95</td>\n",
       "      <td>24/09/2026</td>\n",
       "      <td>joao.rodrigues@globo.com</td>\n",
       "      <td>/</td>\n",
       "      <td>70.68</td>\n",
       "      <td>158</td>\n",
       "      <td>firefox</td>\n",
       "      <td>mobile</td>\n",
       "    </tr>\n",
       "    <tr>\n",
       "      <th>2</th>\n",
       "      <td>189.15.202.241</td>\n",
       "      <td>20/01/2026</td>\n",
       "      <td>l.santos@protonmail.com</td>\n",
       "      <td>/</td>\n",
       "      <td>31.72</td>\n",
       "      <td>206</td>\n",
       "      <td>chrome</td>\n",
       "      <td>mobile</td>\n",
       "    </tr>\n",
       "    <tr>\n",
       "      <th>3</th>\n",
       "      <td>8.8.18.24</td>\n",
       "      <td>21/06/2027</td>\n",
       "      <td>mariasantos@live.com</td>\n",
       "      <td>/</td>\n",
       "      <td>56.41</td>\n",
       "      <td>107</td>\n",
       "      <td>chrome</td>\n",
       "      <td>mobile</td>\n",
       "    </tr>\n",
       "    <tr>\n",
       "      <th>4</th>\n",
       "      <td>1.1.210.196</td>\n",
       "      <td>09/06/2026</td>\n",
       "      <td>beatriz.lima74@protonmail.com</td>\n",
       "      <td>/cursos</td>\n",
       "      <td>49.69</td>\n",
       "      <td>175</td>\n",
       "      <td>chrome</td>\n",
       "      <td>mobile</td>\n",
       "    </tr>\n",
       "  </tbody>\n",
       "</table>\n",
       "</div>"
      ],
      "text/plain": [
       "               ip        date                          email          route  \\\n",
       "0     8.8.194.182  20/01/2027                            NaN  /instituicoes   \n",
       "1      8.8.157.95  24/09/2026       joao.rodrigues@globo.com              /   \n",
       "2  189.15.202.241  20/01/2026        l.santos@protonmail.com              /   \n",
       "3       8.8.18.24  21/06/2027           mariasantos@live.com              /   \n",
       "4     1.1.210.196  09/06/2026  beatriz.lima74@protonmail.com        /cursos   \n",
       "\n",
       "   scroll_pct  time_spent referrer   device  \n",
       "0       75.42         191   chrome  desktop  \n",
       "1       70.68         158  firefox   mobile  \n",
       "2       31.72         206   chrome   mobile  \n",
       "3       56.41         107   chrome   mobile  \n",
       "4       49.69         175   chrome   mobile  "
      ]
     },
     "execution_count": 33,
     "metadata": {},
     "output_type": "execute_result"
    }
   ],
   "source": [
    "import seaborn as sns\n",
    "import pandas as pd\n",
    "\n",
    "df = pd.read_csv(\"datasets/bv-web-analytics.csv\")\n",
    "\n",
    "df.head()"
   ]
  },
  {
   "cell_type": "code",
   "execution_count": 41,
   "id": "6c7a140b",
   "metadata": {},
   "outputs": [
    {
     "data": {
      "text/plain": [
       "<Axes: >"
      ]
     },
     "execution_count": 41,
     "metadata": {},
     "output_type": "execute_result"
    },
    {
     "data": {
      "image/png": "[encoded data removed]",
      "text/plain": [
       "<Figure size 640x480 with 1 Axes>"
      ]
     },
     "metadata": {},
     "output_type": "display_data"
    }
   ],
   "source": [
    "device_signup_ratios = {\n",
    "    device: len((f := df.loc[df[\"device\"] == device]).loc[~f[\"email\"].isna()]) / len(f)\n",
    "    for device in df[\"device\"].unique()\n",
    "}\n",
    "\n",
    "sns.barplot(data=device_signup_ratios)"
   ]
  },
  {
   "cell_type": "code",
   "execution_count": 50,
   "id": "3786d7d1",
   "metadata": {},
   "outputs": [
    {
     "data": {
      "text/plain": [
       "<Axes: >"
      ]
     },
     "execution_count": 50,
     "metadata": {},
     "output_type": "execute_result"
    },
    {
     "data": {
      "image/png": "[encoded data removed]",
      "text/plain": [
       "<Figure size 640x480 with 1 Axes>"
      ]
     },
     "metadata": {},
     "output_type": "display_data"
    }
   ],
   "source": [
    "import matplotlib.pyplot as plt\n",
    "\n",
    "device_ratios = {}\n",
    "device_counts = {}\n",
    "for device in df[\"device\"].unique():\n",
    "    _df = df.loc[df[\"device\"] == device]\n",
    "\n",
    "    count = len(_df)\n",
    "    signup_ratio = len(_df.loc[~_df[\"email\"].isna()]) / count\n",
    "\n",
    "    device_counts[device] = count\n",
    "    device_ratios[device] = signup_ratio\n",
    "\n",
    "# sns.barplot(data=device_counts)\n",
    "sns.barplot(data=device_ratios)"
   ]
  }
 ],
 "metadata": {
  "kernelspec": {
   "display_name": ".venv",
   "language": "python",
   "name": "python3"
  },
  "language_info": {
   "codemirror_mode": {
    "name": "ipython",
    "version": 3
   },
   "file_extension": ".py",
   "mimetype": "text/x-python",
   "name": "python",
   "nbconvert_exporter": "python",
   "pygments_lexer": "ipython3",
   "version": "3.12.3"
  }
 },
 "nbformat": 4,
 "nbformat_minor": 5
}
